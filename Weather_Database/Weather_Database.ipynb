{
 "cells": [
  {
   "cell_type": "code",
   "execution_count": 1,
   "metadata": {},
   "outputs": [],
   "source": [
    "# Import the dependencies.\n",
    "import numpy as np\n",
    "import pandas as pd\n",
    "from citipy import citipy # Use the citipy module to determine city based on latitude and longitude.\n",
    "import requests\n",
    "from datetime import datetime\n",
    "import time\n",
    "\n",
    "# Import the API key.\n",
    "# Import API key\n",
    "import sys\n",
    "import os\n",
    "sys.path.append(os.path.abspath('..'))\n",
    "from config import weather_api_key"
   ]
  },
  {
   "cell_type": "markdown",
   "metadata": {},
   "source": [
    "**Get the latitude and longitude combinations.**"
   ]
  },
  {
   "cell_type": "code",
   "execution_count": 2,
   "metadata": {},
   "outputs": [],
   "source": [
    "# Create a set of random latitude and longitude combinations.\n",
    "objective_cities = 50\n",
    "# size = int(round(objective_cities*2.5,0))\n",
    "size = 2000\n",
    "\n",
    "lats = np.random.uniform(low=-90.000, high=90.000, size=size)\n",
    "lngs = np.random.uniform(low=-180.000, high=180.000, size=size)\n",
    "\n",
    "# Pack the latitudes and longitudes as pairs\n",
    "lat_lngs = zip(lats, lngs)\n",
    "lat_lngs\n",
    "\n",
    "# Add the latitudes and longitudes to a list.\n",
    "coordinates = list(lat_lngs)"
   ]
  },
  {
   "cell_type": "markdown",
   "metadata": {},
   "source": [
    "**Get the nearest city using the $citipy$ module.**"
   ]
  },
  {
   "cell_type": "code",
   "execution_count": 3,
   "metadata": {},
   "outputs": [
    {
     "data": {
      "text/plain": [
       "769"
      ]
     },
     "execution_count": 3,
     "metadata": {},
     "output_type": "execute_result"
    }
   ],
   "source": [
    "# Create a list for holding the cities.\n",
    "cities = []\n",
    "# Identify the nearest city for each latitude and longitude combination.\n",
    "for coordinate in coordinates:\n",
    "    city = citipy.nearest_city(coordinate[0], coordinate[1]).city_name\n",
    "\n",
    "    # If the city is unique, then we will add it to the cities list.\n",
    "    if city not in cities:\n",
    "        cities.append(city)\n",
    "# Print the city count to confirm sufficient count.\n",
    "len(cities)"
   ]
  },
  {
   "cell_type": "markdown",
   "metadata": {},
   "source": [
    "**Perform an API call with the OpenWeatherMap and retrieve the following information from the API call:**\n",
    "\n",
    "    - Latitude and longitude\n",
    "    - Maximum temperature\n",
    "    - Percent humidity\n",
    "    - Percent cloudiness\n",
    "    - Wind speed\n",
    "    - Weather description (for example, clouds, fog, light rain, clear sky)"
   ]
  },
  {
   "cell_type": "code",
   "execution_count": 4,
   "metadata": {},
   "outputs": [],
   "source": [
    "# URL and Parameters\n",
    "\n",
    "# Base URL\n",
    "base_url =  \"http://api.openweathermap.org/data/2.5/weather?\" + \"appid=\" + weather_api_key + \"&units=metric\""
   ]
  },
  {
   "cell_type": "markdown",
   "metadata": {},
   "source": [
    "---"
   ]
  },
  {
   "cell_type": "markdown",
   "metadata": {},
   "source": [
    "**Example:**"
   ]
  },
  {
   "cell_type": "code",
   "execution_count": 5,
   "metadata": {},
   "outputs": [],
   "source": [
    "ex_city = cities[3]\n",
    "city_url = base_url + \"&q=\" + ex_city.replace(\" \",\"+\")"
   ]
  },
  {
   "cell_type": "code",
   "execution_count": 6,
   "metadata": {},
   "outputs": [
    {
     "data": {
      "text/plain": [
       "{'coord': {'lon': -70.9167, 'lat': -53.15},\n",
       " 'weather': [{'id': 803,\n",
       "   'main': 'Clouds',\n",
       "   'description': 'broken clouds',\n",
       "   'icon': '04n'}],\n",
       " 'base': 'stations',\n",
       " 'main': {'temp': 8.95,\n",
       "  'feels_like': 4.79,\n",
       "  'temp_min': 8.95,\n",
       "  'temp_max': 8.95,\n",
       "  'pressure': 1012,\n",
       "  'humidity': 49,\n",
       "  'sea_level': 1012,\n",
       "  'grnd_level': 1009},\n",
       " 'visibility': 10000,\n",
       " 'wind': {'speed': 10.15, 'deg': 298, 'gust': 18.94},\n",
       " 'clouds': {'all': 53},\n",
       " 'dt': 1636610463,\n",
       " 'sys': {'type': 2,\n",
       "  'id': 47745,\n",
       "  'country': 'CL',\n",
       "  'sunrise': 1636620099,\n",
       "  'sunset': 1636676036},\n",
       " 'timezone': -10800,\n",
       " 'id': 3874787,\n",
       " 'name': 'Punta Arenas',\n",
       " 'cod': 200}"
      ]
     },
     "execution_count": 6,
     "metadata": {},
     "output_type": "execute_result"
    }
   ],
   "source": [
    "city_weather = requests.get(city_url).json()\n",
    "city_weather"
   ]
  },
  {
   "cell_type": "code",
   "execution_count": 7,
   "metadata": {},
   "outputs": [
    {
     "name": "stdout",
     "output_type": "stream",
     "text": [
      "City: Punta Arenas\n",
      "Country Code: CL\n",
      "Latitude and Longitude: (-53.15,-70.9167)\n",
      "Maximum Temperature: 8.95 C°\n",
      "Percent Humidity: 49%\n",
      "Percent Cloudiness: 53%\n",
      "Wind Speed: 10.15 meter/sec\n",
      "Weather Description: Broken Clouds\n",
      "City Date:2021-11-11 06:01:03\n"
     ]
    }
   ],
   "source": [
    "print(f\"City: {ex_city.title()}\\n\"\n",
    "      f\"Country Code: {city_weather['sys']['country']}\\n\"\n",
    "      f\"Latitude and Longitude: ({city_weather['coord']['lat']},{city_weather['coord']['lon']})\\n\"\n",
    "      f\"Maximum Temperature: {city_weather['main']['temp_max']} C°\\n\"\n",
    "      f\"Percent Humidity: {city_weather['main']['humidity']}%\\n\"\n",
    "      f\"Percent Cloudiness: {city_weather['clouds']['all']}%\\n\"\n",
    "      f\"Wind Speed: {city_weather['wind']['speed']} meter/sec\\n\"\n",
    "      f\"Weather Description: {city_weather['weather'][0]['description'].title()}\\n\"\n",
    "      f\"City Date:{datetime.utcfromtimestamp(city_weather['dt']).strftime('%Y-%m-%d %H:%M:%S')}\"\n",
    "     )"
   ]
  },
  {
   "cell_type": "markdown",
   "metadata": {},
   "source": [
    "---"
   ]
  },
  {
   "cell_type": "code",
   "execution_count": 8,
   "metadata": {
    "scrolled": true
   },
   "outputs": [
    {
     "name": "stdout",
     "output_type": "stream",
     "text": [
      "Beginning Data Retrieval     \n",
      "-----------------------------\n",
      "\n",
      "\n",
      "Kamenskoye City not found. Skipping...\n",
      "Taolanaro City not found. Skipping...\n",
      "Mys Shmidta City not found. Skipping...\n",
      "Illoqqortoormiut City not found. Skipping...\n",
      "Tapaua City not found. Skipping...\n",
      "Barentsburg City not found. Skipping...\n",
      "Processing Set 2  -------------\n",
      "Inveraray City not found. Skipping...\n",
      "Xiangdong City not found. Skipping...\n",
      "Amderma City not found. Skipping...\n",
      "Belushya Guba City not found. Skipping...\n",
      "Processing Set 3  -------------\n",
      "Grand River South East City not found. Skipping...\n",
      "Jiddah City not found. Skipping...\n",
      "Processing Set 4  -------------\n",
      "Karauzyak City not found. Skipping...\n",
      "Sentyabrskiy City not found. Skipping...\n",
      "Processing Set 5  -------------\n",
      "Nizhneyansk City not found. Skipping...\n",
      "Bolungarvik City not found. Skipping...\n",
      "Mochitlan City not found. Skipping...\n",
      "Palabuhanratu City not found. Skipping...\n",
      "Vaitupu City not found. Skipping...\n",
      "Processing Set 6  -------------\n",
      "Samalaeulu City not found. Skipping...\n",
      "Louisbourg City not found. Skipping...\n",
      "Ngukurr City not found. Skipping...\n",
      "Processing Set 7  -------------\n",
      "Dianopolis City not found. Skipping...\n",
      "Umzimvubu City not found. Skipping...\n",
      "Skalistyy City not found. Skipping...\n",
      "Kawana Waters City not found. Skipping...\n",
      "Labutta City not found. Skipping...\n",
      "Paradwip City not found. Skipping...\n",
      "Processing Set 8  -------------\n",
      "Mizpe Ramon City not found. Skipping...\n",
      "Tsihombe City not found. Skipping...\n",
      "Abu Jubayhah City not found. Skipping...\n",
      "Processing Set 9  -------------\n",
      "Phan Rang City not found. Skipping...\n",
      "Crab Hill City not found. Skipping...\n",
      "Zlatoustovsk City not found. Skipping...\n",
      "Sorvag City not found. Skipping...\n",
      "Processing Set 10  -------------\n",
      "Bur Gabo City not found. Skipping...\n",
      "Ijaki City not found. Skipping...\n",
      "Processing Set 11  -------------\n",
      "Gorno-Chuyskiy City not found. Skipping...\n",
      "Atka City not found. Skipping...\n",
      "Viligili City not found. Skipping...\n",
      "Processing Set 12  -------------\n",
      "Abiy Adi City not found. Skipping...\n",
      "Santa Eulalia Del Rio City not found. Skipping...\n",
      "Umm Durman City not found. Skipping...\n",
      "Processing Set 13  -------------\n",
      "Marv Dasht City not found. Skipping...\n",
      "Saleaula City not found. Skipping...\n",
      "Chagda City not found. Skipping...\n",
      "Barbar City not found. Skipping...\n",
      "Lolua City not found. Skipping...\n",
      "Fulitun City not found. Skipping...\n",
      "Processing Set 14  -------------\n",
      "Attawapiskat City not found. Skipping...\n",
      "Sumbawa City not found. Skipping...\n",
      "Tumannyy City not found. Skipping...\n",
      "Sataua City not found. Skipping...\n",
      "Processing Set 15  -------------\n",
      "Longlac City not found. Skipping...\n",
      "Scottsburgh City not found. Skipping...\n",
      "Processing Set 16  -------------\n",
      "\n",
      "\n",
      "-----------------------------\n",
      "Data Retrieval Complete      \n",
      "-----------------------------\n"
     ]
    }
   ],
   "source": [
    "# Create an empty list to hold the weather data.\n",
    "city_data = []\n",
    "# Print the beginning of the logging.\n",
    "print(\"Beginning Data Retrieval     \")\n",
    "print(\"-----------------------------\\n\\n\")\n",
    "\n",
    "# Create counters.\n",
    "record_count = 1\n",
    "set_count = 1\n",
    "\n",
    "# Loop through all the cities in the list.\n",
    "for i, city in enumerate(cities):\n",
    "\n",
    "    # Group cities in sets of 50 for logging purposes.\n",
    "    if (i % 50 == 0 and i >= 50):\n",
    "        set_count += 1\n",
    "        record_count = 1\n",
    "        time.sleep(60)\n",
    "        print(f\"Processing Set {set_count}  -------------\")\n",
    "\n",
    "    # Create endpoint URL with each city.\n",
    "    city_url = base_url + \"&q=\" + city.replace(\" \",\"+\")\n",
    "\n",
    "    # Add 1 to the record count.\n",
    "    record_count += 1\n",
    "    \n",
    "    # Run an API request for each of the cities.\n",
    "    try:\n",
    "        # Parse the JSON and retrieve data.\n",
    "        city_weather = requests.get(city_url).json()\n",
    "        # Parse out the needed data.        \n",
    "        city_lat = city_weather['coord']['lat']\n",
    "        city_lng = city_weather['coord']['lon']\n",
    "        city_max_temp = city_weather['main']['temp_max']\n",
    "        city_humidity = city_weather['main']['humidity']\n",
    "        city_clouds = city_weather['clouds']['all']\n",
    "        city_wind = city_weather['wind']['speed']\n",
    "        city_country = city_weather['sys']['country']\n",
    "        city_description = city_weather['weather'][0]['description']\n",
    "        city_date = datetime.utcfromtimestamp(city_weather['dt']).strftime('%Y-%m-%d %H:%M:%S') # Date to ISO standard.\n",
    "        # Append the city information into city_data list.\n",
    "        city_data.append({\"City\": city.title(),\n",
    "                          \"Lat\": city_lat,\n",
    "                          \"Lng\": city_lng,\n",
    "                          \"Max Temp\": city_max_temp,\n",
    "                          \"Humidity\": city_humidity,\n",
    "                          \"Cloudiness\": city_clouds,\n",
    "                          \"Wind Speed\": city_wind,\n",
    "                          \"Country\": city_country,\n",
    "                          \"Current Description\": city_description.title(),\n",
    "                          \"Date\": city_date})\n",
    "\n",
    "    # If an error is experienced, skip the city.\n",
    "    except:\n",
    "        print(f\"{city.title()} City not found. Skipping...\")\n",
    "        pass\n",
    "\n",
    "# Indicate that Data Loading is complete.\n",
    "print(\"\\n\\n-----------------------------\")\n",
    "print(\"Data Retrieval Complete      \")\n",
    "print(\"-----------------------------\")"
   ]
  },
  {
   "cell_type": "code",
   "execution_count": 9,
   "metadata": {},
   "outputs": [
    {
     "data": {
      "text/html": [
       "<div>\n",
       "<style scoped>\n",
       "    .dataframe tbody tr th:only-of-type {\n",
       "        vertical-align: middle;\n",
       "    }\n",
       "\n",
       "    .dataframe tbody tr th {\n",
       "        vertical-align: top;\n",
       "    }\n",
       "\n",
       "    .dataframe thead th {\n",
       "        text-align: right;\n",
       "    }\n",
       "</style>\n",
       "<table border=\"1\" class=\"dataframe\">\n",
       "  <thead>\n",
       "    <tr style=\"text-align: right;\">\n",
       "      <th></th>\n",
       "      <th>City</th>\n",
       "      <th>Country</th>\n",
       "      <th>Lat</th>\n",
       "      <th>Lng</th>\n",
       "      <th>Max Temp</th>\n",
       "      <th>Humidity</th>\n",
       "      <th>Cloudiness</th>\n",
       "      <th>Wind Speed</th>\n",
       "      <th>Current Description</th>\n",
       "      <th>Date</th>\n",
       "    </tr>\n",
       "  </thead>\n",
       "  <tbody>\n",
       "    <tr>\n",
       "      <th>0</th>\n",
       "      <td>Chokurdakh</td>\n",
       "      <td>RU</td>\n",
       "      <td>70.6333</td>\n",
       "      <td>147.9167</td>\n",
       "      <td>-19.00</td>\n",
       "      <td>94</td>\n",
       "      <td>98</td>\n",
       "      <td>3.17</td>\n",
       "      <td>Overcast Clouds</td>\n",
       "      <td>2021-11-11 06:05:41</td>\n",
       "    </tr>\n",
       "    <tr>\n",
       "      <th>1</th>\n",
       "      <td>Cabo San Lucas</td>\n",
       "      <td>MX</td>\n",
       "      <td>22.8909</td>\n",
       "      <td>-109.9124</td>\n",
       "      <td>25.28</td>\n",
       "      <td>71</td>\n",
       "      <td>0</td>\n",
       "      <td>1.33</td>\n",
       "      <td>Clear Sky</td>\n",
       "      <td>2021-11-11 06:02:39</td>\n",
       "    </tr>\n",
       "    <tr>\n",
       "      <th>2</th>\n",
       "      <td>Praia</td>\n",
       "      <td>CV</td>\n",
       "      <td>14.9215</td>\n",
       "      <td>-23.5087</td>\n",
       "      <td>23.30</td>\n",
       "      <td>83</td>\n",
       "      <td>0</td>\n",
       "      <td>3.09</td>\n",
       "      <td>Clear Sky</td>\n",
       "      <td>2021-11-11 06:05:42</td>\n",
       "    </tr>\n",
       "    <tr>\n",
       "      <th>3</th>\n",
       "      <td>Punta Arenas</td>\n",
       "      <td>CL</td>\n",
       "      <td>-53.1500</td>\n",
       "      <td>-70.9167</td>\n",
       "      <td>8.95</td>\n",
       "      <td>49</td>\n",
       "      <td>53</td>\n",
       "      <td>10.15</td>\n",
       "      <td>Broken Clouds</td>\n",
       "      <td>2021-11-11 06:01:03</td>\n",
       "    </tr>\n",
       "    <tr>\n",
       "      <th>4</th>\n",
       "      <td>Ushuaia</td>\n",
       "      <td>AR</td>\n",
       "      <td>-54.8000</td>\n",
       "      <td>-68.3000</td>\n",
       "      <td>4.81</td>\n",
       "      <td>93</td>\n",
       "      <td>0</td>\n",
       "      <td>1.03</td>\n",
       "      <td>Clear Sky</td>\n",
       "      <td>2021-11-11 06:05:43</td>\n",
       "    </tr>\n",
       "    <tr>\n",
       "      <th>5</th>\n",
       "      <td>Taraz</td>\n",
       "      <td>KZ</td>\n",
       "      <td>42.9000</td>\n",
       "      <td>71.3667</td>\n",
       "      <td>10.23</td>\n",
       "      <td>40</td>\n",
       "      <td>0</td>\n",
       "      <td>1.00</td>\n",
       "      <td>Clear Sky</td>\n",
       "      <td>2021-11-11 06:05:44</td>\n",
       "    </tr>\n",
       "    <tr>\n",
       "      <th>6</th>\n",
       "      <td>Bluff</td>\n",
       "      <td>NZ</td>\n",
       "      <td>-46.6000</td>\n",
       "      <td>168.3333</td>\n",
       "      <td>15.75</td>\n",
       "      <td>78</td>\n",
       "      <td>96</td>\n",
       "      <td>6.95</td>\n",
       "      <td>Overcast Clouds</td>\n",
       "      <td>2021-11-11 06:01:12</td>\n",
       "    </tr>\n",
       "    <tr>\n",
       "      <th>7</th>\n",
       "      <td>Mezen</td>\n",
       "      <td>RU</td>\n",
       "      <td>65.8522</td>\n",
       "      <td>44.2400</td>\n",
       "      <td>0.58</td>\n",
       "      <td>98</td>\n",
       "      <td>100</td>\n",
       "      <td>4.03</td>\n",
       "      <td>Overcast Clouds</td>\n",
       "      <td>2021-11-11 06:05:45</td>\n",
       "    </tr>\n",
       "    <tr>\n",
       "      <th>8</th>\n",
       "      <td>Avarua</td>\n",
       "      <td>CK</td>\n",
       "      <td>-21.2078</td>\n",
       "      <td>-159.7750</td>\n",
       "      <td>24.03</td>\n",
       "      <td>78</td>\n",
       "      <td>75</td>\n",
       "      <td>6.69</td>\n",
       "      <td>Broken Clouds</td>\n",
       "      <td>2021-11-11 06:05:45</td>\n",
       "    </tr>\n",
       "    <tr>\n",
       "      <th>9</th>\n",
       "      <td>Harper</td>\n",
       "      <td>LR</td>\n",
       "      <td>4.3750</td>\n",
       "      <td>-7.7169</td>\n",
       "      <td>25.40</td>\n",
       "      <td>87</td>\n",
       "      <td>87</td>\n",
       "      <td>1.88</td>\n",
       "      <td>Light Rain</td>\n",
       "      <td>2021-11-11 06:05:46</td>\n",
       "    </tr>\n",
       "  </tbody>\n",
       "</table>\n",
       "</div>"
      ],
      "text/plain": [
       "             City Country      Lat       Lng  Max Temp  Humidity  Cloudiness  \\\n",
       "0      Chokurdakh      RU  70.6333  147.9167    -19.00        94          98   \n",
       "1  Cabo San Lucas      MX  22.8909 -109.9124     25.28        71           0   \n",
       "2           Praia      CV  14.9215  -23.5087     23.30        83           0   \n",
       "3    Punta Arenas      CL -53.1500  -70.9167      8.95        49          53   \n",
       "4         Ushuaia      AR -54.8000  -68.3000      4.81        93           0   \n",
       "5           Taraz      KZ  42.9000   71.3667     10.23        40           0   \n",
       "6           Bluff      NZ -46.6000  168.3333     15.75        78          96   \n",
       "7           Mezen      RU  65.8522   44.2400      0.58        98         100   \n",
       "8          Avarua      CK -21.2078 -159.7750     24.03        78          75   \n",
       "9          Harper      LR   4.3750   -7.7169     25.40        87          87   \n",
       "\n",
       "   Wind Speed Current Description                 Date  \n",
       "0        3.17     Overcast Clouds  2021-11-11 06:05:41  \n",
       "1        1.33           Clear Sky  2021-11-11 06:02:39  \n",
       "2        3.09           Clear Sky  2021-11-11 06:05:42  \n",
       "3       10.15       Broken Clouds  2021-11-11 06:01:03  \n",
       "4        1.03           Clear Sky  2021-11-11 06:05:43  \n",
       "5        1.00           Clear Sky  2021-11-11 06:05:44  \n",
       "6        6.95     Overcast Clouds  2021-11-11 06:01:12  \n",
       "7        4.03     Overcast Clouds  2021-11-11 06:05:45  \n",
       "8        6.69       Broken Clouds  2021-11-11 06:05:45  \n",
       "9        1.88          Light Rain  2021-11-11 06:05:46  "
      ]
     },
     "execution_count": 9,
     "metadata": {},
     "output_type": "execute_result"
    }
   ],
   "source": [
    "# Convert the array of dictionaries to a Pandas DataFrame.\n",
    "city_data_df = pd.DataFrame(city_data)\n",
    "city_data_df =  city_data_df[[\"City\",\"Country\",\"Lat\",\"Lng\",\"Max Temp\",\"Humidity\",\"Cloudiness\",\"Wind Speed\",\"Current Description\",\"Date\"]]\n",
    "city_data_df.head(10)"
   ]
  },
  {
   "cell_type": "code",
   "execution_count": 11,
   "metadata": {},
   "outputs": [],
   "source": [
    "# Create the output file (CSV).\n",
    "output_data_file = \"WeatherPy_Database.csv\"\n",
    "# Export the City_Data into a CSV.\n",
    "city_data_df.to_csv(output_data_file, index_label=\"City_ID\")"
   ]
  },
  {
   "cell_type": "code",
   "execution_count": 12,
   "metadata": {},
   "outputs": [
    {
     "data": {
      "text/plain": [
       "714"
      ]
     },
     "execution_count": 12,
     "metadata": {},
     "output_type": "execute_result"
    }
   ],
   "source": [
    "len(city_data_df)"
   ]
  },
  {
   "cell_type": "code",
   "execution_count": null,
   "metadata": {},
   "outputs": [],
   "source": []
  }
 ],
 "metadata": {
  "kernelspec": {
   "display_name": "PythonData",
   "language": "python",
   "name": "pythondata"
  },
  "language_info": {
   "codemirror_mode": {
    "name": "ipython",
    "version": 3
   },
   "file_extension": ".py",
   "mimetype": "text/x-python",
   "name": "python",
   "nbconvert_exporter": "python",
   "pygments_lexer": "ipython3",
   "version": "3.7.7"
  }
 },
 "nbformat": 4,
 "nbformat_minor": 4
}
